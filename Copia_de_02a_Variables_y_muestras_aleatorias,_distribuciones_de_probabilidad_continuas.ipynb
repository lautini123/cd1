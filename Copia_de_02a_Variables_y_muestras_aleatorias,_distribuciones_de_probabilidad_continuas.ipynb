{
  "nbformat": 4,
  "nbformat_minor": 0,
  "metadata": {
    "colab": {
      "provenance": [],
      "toc_visible": true,
      "include_colab_link": true
    },
    "kernelspec": {
      "name": "python3",
      "display_name": "Python 3"
    },
    "language_info": {
      "name": "python"
    }
  },
  "cells": [
    {
      "cell_type": "markdown",
      "metadata": {
        "id": "view-in-github",
        "colab_type": "text"
      },
      "source": [
        "<a href=\"https://colab.research.google.com/github/lautini123/cd1/blob/main/Copia_de_02a_Variables_y_muestras_aleatorias%2C_distribuciones_de_probabilidad_continuas.ipynb\" target=\"_parent\"><img src=\"https://colab.research.google.com/assets/colab-badge.svg\" alt=\"Open In Colab\"/></a>"
      ]
    },
    {
      "cell_type": "markdown",
      "source": [
        "# 📌 Tema 2a: Variables y muestras aleatorias, distribuciones de probabilidad continuas"
      ],
      "metadata": {
        "id": "EkY7Eo6_H5I-"
      }
    },
    {
      "cell_type": "markdown",
      "source": [
        "❗Antes de comenzar con la clase, hacete una copia de este documento así podés editarlo y guardar los cambios.\n",
        "\n",
        "Hacé clic arriba a la izquierda, en Archivo > Guardar una copia en Drive.\n",
        "\n",
        "Luego seguís trabajando en esa copia y te queda todo guardado en tu Drive."
      ],
      "metadata": {
        "id": "VKkYV914QQdL"
      }
    },
    {
      "cell_type": "markdown",
      "source": [
        "---"
      ],
      "metadata": {
        "id": "Zo8OPhBSeB4c"
      }
    },
    {
      "cell_type": "markdown",
      "source": [
        "## 🌎 Oxígeno disuelto en el agua\n",
        "\n"
      ],
      "metadata": {
        "id": "g44Y9C7V507D"
      }
    },
    {
      "cell_type": "markdown",
      "source": [
        "El nivel de oxígeno disuelto (OD) en el agua es una medida esencial en ecología acuática, ingeniería ambiental y en el tratamiento de aguas, ya que sirve para medir la respiración de organismos acuáticos.\n",
        "\n",
        "Para estudiar el OD en la laguna Setúbal, un grupo de investigación de la UNL recolectó **100 alícuotas de agua (de 50 $cm^3$ cada una)** y utilizó un método químico para medir el nivel de oxígeno en cada una de ellas. Dicho método consiste en añadir reactivos químicos a la alícuota de agua para formar un complejo coloreado con el oxígeno disuelto. Luego, se mide la intensidad del color para determinar indirectamente el nivel de oxígeno en el agua.\n",
        "\n",
        "Los niveles de oxígeno en miligramos por decilitro (mg/dL) se encuentran a continuación:"
      ],
      "metadata": {
        "id": "WH-bYgvO52v4"
      }
    },
    {
      "cell_type": "code",
      "source": [
        "import numpy as np\n",
        "\n",
        "niveles_oxigeno = np.array([\n",
        "    9.76, 8.67, 8.98, 10.24, 9.71, 7.02, 8.95, 7.85, 7.9, 8.41, 8.14, 9.45, 8.76, 8.12, 8.44, 8.33,\n",
        "    9.49, 7.79, 8.31, 7.15, 5.45, 8.65, 8.86, 7.26, 10.27, 6.55, 8.05, 7.81, 9.53, 9.47, 8.15, 8.38,\n",
        "    7.11, 6.02, 7.65, 8.16, 9.23, 9.2, 7.61, 7.7, 6.95, 6.58, 6.29, 9.95, 7.49, 7.56, 6.75, 8.78,\n",
        "    6.39, 7.79, 7.1, 8.39, 7.49, 6.82, 7.97, 8.43, 8.07, 8.3, 7.37, 7.64, 7.33, 7.64, 7.19, 6.27,\n",
        "    8.18, 7.6, 6.37, 9.46, 7.09, 8.05, 8.73, 8.13, 9.14, 6.77, 8.4, 7.32, 7.13, 7.42, 7.69, 8.06,\n",
        "    6.83, 8.9, 8.47, 6.46, 9.49, 10.23, 9.18, 7.82, 6.93, 11.05, 7.6, 9.22, 8.21, 8.98, 8.36, 8.71, 8.01,\n",
        "    9.79, 8.13, 8.4\n",
        "])"
      ],
      "metadata": {
        "id": "dHL2dypNTXaC"
      },
      "execution_count": null,
      "outputs": []
    },
    {
      "cell_type": "markdown",
      "source": [
        "📌 Preguntas:\n",
        "\n",
        "1. En este caso, ¿contamos con la población o con una muestra? con una muestra\n",
        "2. ¿De qué tipo son los datos en este ejemplo? cuantitativos continuos\n",
        "3. ¿Qué resumen gráfico sería útil para analizarlos? histograma"
      ],
      "metadata": {
        "id": "m2T3kYez_nSj"
      }
    },
    {
      "cell_type": "markdown",
      "source": [
        "✏️ Respuestas:\n",
        "\n",
        "1. ...\n",
        "2. ...\n",
        "3. ..."
      ],
      "metadata": {
        "id": "MutRQnFb_8bG"
      }
    },
    {
      "cell_type": "markdown",
      "source": [
        "Visualicemos los datos:"
      ],
      "metadata": {
        "id": "6YrHv0qy2OXm"
      }
    },
    {
      "cell_type": "code",
      "source": [
        "import matplotlib.pyplot as plt\n",
        "\n",
        "# Intervalos para agrupar los datos\n",
        "intervalos = np.arange(5, 11.5, step=0.5)  # 5, 5.5, 6, ..., 10.5, 11\n",
        "\n",
        "plt.figure()\n",
        "plt.hist(niveles_oxigeno, density=True, bins=intervalos, color=\"skyblue\", edgecolor=\"black\")\n",
        "plt.xlabel(\"Nivel Oxígeno\")\n",
        "plt.ylabel(\"Densidad\")\n",
        "plt.show()"
      ],
      "metadata": {
        "id": "8drX8r761r6p",
        "colab": {
          "base_uri": "https://localhost:8080/",
          "height": 450
        },
        "outputId": "4a3cc434-ff8e-4d84-8f06-7ba02172d407"
      },
      "execution_count": null,
      "outputs": [
        {
          "output_type": "display_data",
          "data": {
            "text/plain": [
              "<Figure size 640x480 with 1 Axes>"
            ],
            "image/png": "[encoded data removed]"
          },
          "metadata": {}
        }
      ]
    },
    {
      "cell_type": "markdown",
      "source": [
        "Calculemos la media y varianza:"
      ],
      "metadata": {
        "id": "0zbWCOWrP96w"
      }
    },
    {
      "cell_type": "code",
      "source": [
        "media_niveles_oxigeno = np.mean(niveles_oxigeno)\n",
        "varianza_niveles_oxigeno = np.var(niveles_oxigeno)\n",
        "\n",
        "print(\"Media muestral de niveles de oxígeno:\", media_niveles_oxigeno)\n",
        "print(\"Varianza muestral de niveles de oxígeno:\", varianza_niveles_oxigeno)"
      ],
      "metadata": {
        "id": "NpLAHMS7QJDW",
        "colab": {
          "base_uri": "https://localhost:8080/"
        },
        "outputId": "da210a78-f99a-4d00-90f3-ab64af718f5b"
      },
      "execution_count": null,
      "outputs": [
        {
          "output_type": "stream",
          "name": "stdout",
          "text": [
            "Media muestral de niveles de oxígeno: 8.094299999999999\n",
            "Varianza muestral de niveles de oxígeno: 1.12201851\n"
          ]
        }
      ]
    },
    {
      "cell_type": "markdown",
      "source": [
        "📌 Preguntas:\n",
        "\n",
        "1. Supongamos que queremos extraer muchas alícuotas de agua (más de las 100 que ya obtuvimos). ¿Se puede? ¿Por qué?\n",
        "2. En caso de que se pueda, ¿cómo lo harías?"
      ],
      "metadata": {
        "id": "MufmRiIeY2Om"
      }
    },
    {
      "cell_type": "markdown",
      "source": [
        "✏️ Respuestas:\n",
        "\n",
        "1. ...\n",
        "2. ..."
      ],
      "metadata": {
        "id": "0j02FHioAbmQ"
      }
    },
    {
      "cell_type": "markdown",
      "source": [
        "Ahora observá lo que hace el siguiente código:"
      ],
      "metadata": {
        "id": "NVkyQjP-ReyK"
      }
    },
    {
      "cell_type": "code",
      "source": [
        "from scipy.stats import norm\n",
        "\n",
        "# Parámetros de la distribución normal\n",
        "mu = 8\n",
        "sigma = 1\n",
        "\n",
        "# Valores posibles de la variable aleatoria\n",
        "x = np.linspace(mu - 4*sigma, mu + 4*sigma, num=1000)\n",
        "\n",
        "# Evaluamos la función de densidad\n",
        "pdf = norm.pdf(x, loc=mu, scale=sigma)\n",
        "\n",
        "# Graficamos\n",
        "plt.figure()\n",
        "plt.plot(x, pdf)\n",
        "plt.xlabel(\"x\")\n",
        "plt.ylabel(\"f(x)\")\n",
        "plt.show()"
      ],
      "metadata": {
        "id": "DOKZT6nkSd6l",
        "colab": {
          "base_uri": "https://localhost:8080/",
          "height": 449
        },
        "outputId": "5d682064-dc0c-43bd-9c0e-cdc0f94dd09b"
      },
      "execution_count": null,
      "outputs": [
        {
          "output_type": "display_data",
          "data": {
            "text/plain": [
              "<Figure size 640x480 with 1 Axes>"
            ],
            "image/png": "[encoded data removed]"
          },
          "metadata": {}
        }
      ]
    },
    {
      "cell_type": "markdown",
      "source": [
        "❓ Observá esta curva y el histograma que graficaste anteriormente ¿Encontrás similitudes entre ellos?"
      ],
      "metadata": {
        "id": "LOVs8Z1-3wft"
      }
    },
    {
      "cell_type": "markdown",
      "source": [
        "✏️ Escribí tu respuesta acá:\n",
        "\n",
        "..."
      ],
      "metadata": {
        "id": "hwJGX66D38hd"
      }
    },
    {
      "cell_type": "markdown",
      "source": [
        "Ahora, vamos a superponer en un gráfico el histograma de los niveles de oxígeno con la función $f(x)$  anterior.\n",
        "\n",
        "💻 Completá el código a continuación:"
      ],
      "metadata": {
        "id": "Y3lCgPzCReyL"
      }
    },
    {
      "cell_type": "code",
      "source": [
        "plt.figure()\n",
        "plt.hist(niveles_oxigeno, density=True, bins=intervalos, color=\"skyblue\", edgecolor=\"black\")\n",
        "plt.plot(x, pdf)\n",
        "plt.xlabel(\"Nivel Oxígeno Disuelto\")\n",
        "plt.ylabel(\"Densidad\")\n",
        "plt.show()"
      ],
      "metadata": {
        "id": "i6tWK-agReyL",
        "colab": {
          "base_uri": "https://localhost:8080/",
          "height": 450
        },
        "outputId": "dc81d1bc-799b-4098-c0fc-30b1bde4c997"
      },
      "execution_count": null,
      "outputs": [
        {
          "output_type": "display_data",
          "data": {
            "text/plain": [
              "<Figure size 640x480 with 1 Axes>"
            ],
            "image/png": "[encoded data removed]"
          },
          "metadata": {}
        }
      ]
    },
    {
      "cell_type": "markdown",
      "source": [
        "❓ ¿Por qué será que la forma del histograma y la función son similares?"
      ],
      "metadata": {
        "id": "I1GaV4sSStLK"
      }
    },
    {
      "cell_type": "markdown",
      "source": [
        "✏️ Escribí tu respuesta acá:\n",
        "\n",
        "..."
      ],
      "metadata": {
        "id": "aLPN2D1ekfgb"
      }
    },
    {
      "cell_type": "markdown",
      "source": [
        "---"
      ],
      "metadata": {
        "id": "bK-BY6nerLGj"
      }
    },
    {
      "cell_type": "markdown",
      "source": [
        "### 🔢 Variables aleatorias continuas"
      ],
      "metadata": {
        "id": "IRO9QxwsrOfm"
      }
    },
    {
      "cell_type": "markdown",
      "source": [
        "Los **datos** de niveles de oxígeno en miligramos por decilitro (mg/dL) del agua, son **realizaciones** de lo que en estadística llamamos  **variable aleatoria**.\n",
        "\n",
        "Una **variable aleatoria contiua es una función que asigna un valor numérico a cada resultado de un experimento** (repetido en las mismas condiciones).\n",
        "\n",
        "Por ejemplo, consideremos la variable $X:$ *nivel de oxígeno* de una alícuota de agua. Esta es una **variable aleatoria cuantitativa continua**, lo que significa que puede tomar infinitos valores en un rango determinado o en toda la recta real.\n",
        "\n",
        "Ahora bien, lo que tenemos en cada posición del arreglo `niveles_oxigeno` es **un valor observado** o **una realización** de las variables aleatorias $X_1, \\ldots, X_n$ donde $X_i:$ *nivel de oxígeno de la alícuota de agua* $i$. Estas variables conforman una **muestra aleatoria** donde todas las $X_i$ tienen la misma distribución y además la misma que $X$, por lo que decimos que son **idénticamente distribuídas**.\n",
        "\n",
        "⚠️ Como te habrás dado cuenta, usamos **letras minúsculas** para las **realizaciones** y **letras mayúsculas** para las **variables aleatorias**. Es decir, $x_1 = 9.76$, $x_2 = 8.67$, etc. son valores observados de $X_1, X_2, \\ldots$. Dada la naturaleza aleatoria de estas variables, si volviéramos a recolectar datos, los valores observados podrían cambiar."
      ],
      "metadata": {
        "id": "bYMiryT0rSmU"
      }
    },
    {
      "cell_type": "markdown",
      "source": [
        "### 📊 Distribuciones de probabilidad"
      ],
      "metadata": {
        "id": "33mMis57FvmY"
      }
    },
    {
      "cell_type": "markdown",
      "source": [
        "Si consideramos los posibles infinitos valores que puede tomar la variable *nivel de oxígeno*, el histograma se aproximaría a la función $f(x)$ que hemos graficado anteriormente. Esta función es lo que llamamos  **modelo teórico** para la variable $X:$ *nivel de oxígeno* y nos indica la **distribución de probabilidad** (o simplemente **distribución)** de la misma. Como antes, la distribución se caracteriza por la forma, pero además por ciertas medidas de centralidad y dispersión. A estas medidas, se las denomina **parámetros de la distribución** o simplemente, **parámetros**.\n",
        "\n",
        "\n",
        "\n",
        "\n",
        "\n"
      ],
      "metadata": {
        "id": "bYemPWOcH2ud"
      }
    },
    {
      "cell_type": "markdown",
      "source": [
        "### 📚 Biblioteca Numpy y Arreglos"
      ],
      "metadata": {
        "id": "9iDguqyuFfUu"
      }
    },
    {
      "cell_type": "markdown",
      "source": [
        "**NumPy** es una biblioteca de Python diseñada para el cálculo numérico que está optimizada para manejar grandes volúmenes de datos y realizar operaciones matemáticas de forma rápida y en pocas líneas de código."
      ],
      "metadata": {
        "id": "3oaXeRKrF4-W"
      }
    },
    {
      "cell_type": "markdown",
      "source": [
        "🧱 **¿Qué es un arreglo en NumPy?**"
      ],
      "metadata": {
        "id": "iBev8b4zsYUA"
      }
    },
    {
      "cell_type": "markdown",
      "source": [
        "Un **arreglo** de NumPy (también llamado *array*) es una colección de datos del **mismo tipo**, organizados en una estructura que puede ser:\n",
        "- **Unidimensional**: como una lista simple [1, 2, 3].\n",
        "- **Multidimensional**: como una tabla (o matriz) o estructuras de más dimensiones.\n",
        "\n",
        "A diferencia de las listas, los arreglos de NumPy **siempre contienen elementos del mismo tipo**."
      ],
      "metadata": {
        "id": "yJ_EdD1DshE3"
      }
    },
    {
      "cell_type": "markdown",
      "source": [
        "Para importar NumPy hacemos lo siguiente:\n",
        "\n",
        "```python\n",
        "import numpy as np\n",
        "```"
      ],
      "metadata": {
        "id": "Lmzv5nobLWtp"
      }
    },
    {
      "cell_type": "markdown",
      "source": [
        "Esto crea el alias `np`, que usaremos cada vez que queramos acceder a alguna función, por ejemplo: `np.array()` o `np.mean()`."
      ],
      "metadata": {
        "id": "geyAoorKXYdu"
      }
    },
    {
      "cell_type": "markdown",
      "source": [
        "La forma más simple de **crear un arreglo** es a partir de una lista:\n",
        "\n",
        "```python\n",
        "numeros = np.array([1, 2, 3, 4])\n",
        "```\n",
        "\n",
        "Podemos sumar un valor a todos los elementos sin usar bucles:\n",
        "\n",
        "```python\n",
        "numeros = numeros + 10\n",
        "```\n",
        "\n",
        "📌 Este es un ejemplo de una **operación vectorizada**: NumPy aplica la operación a todos los elementos del arreglo a la vez."
      ],
      "metadata": {
        "id": "5lVyowYkLjYi"
      }
    },
    {
      "cell_type": "markdown",
      "source": [
        "También podemos especificar el **tipo de dato** que queremos para los elementos del arreglo:\n",
        "\n",
        "```python\n",
        "numeros = np.array([1, 2, 3, 4], dtype=float)\n",
        "```\n",
        "\n",
        "Si no lo indicamos, NumPy **lo infiere automáticamente** según los datos proporcionados. Para consultarlo:\n",
        "\n",
        "```python\n",
        "print(numeros.dtype)\n",
        "```\n",
        "\n",
        "📌 Recordemos que en un arreglo de NumPy todos los elementos son del mismo tipo de dato."
      ],
      "metadata": {
        "id": "M32xDZZpJ7d9"
      }
    },
    {
      "cell_type": "markdown",
      "source": [
        "🧮 **Operaciones estadísticas comunes**"
      ],
      "metadata": {
        "id": "XkNuootiuhfW"
      }
    },
    {
      "cell_type": "markdown",
      "source": [
        "NumPy nos ofrece funciones que permiten calcular estadísticas de forma directa:\n",
        "\n",
        "```python\n",
        "numeros = np.array([1, 2, 3, 4])\n",
        "\n",
        "# Forma 1: usando np.función()\n",
        "print(\"Media:\", np.mean(numeros))\n",
        "print(\"Desvío estándar:\", np.std(numeros))\n",
        "\n",
        "# Forma 2: método del arreglo\n",
        "print(\"Media:\", numeros.mean())\n",
        "print(\"Desvío estándar:\", numeros.std())\n",
        "```\n",
        "\n",
        "Ambas formas son equivalentes."
      ],
      "metadata": {
        "id": "-kQgHRIN-mSQ"
      }
    },
    {
      "cell_type": "markdown",
      "source": [
        "🔢 **Creando arreglos automáticamente**"
      ],
      "metadata": {
        "id": "vkIUGal5u7eb"
      }
    },
    {
      "cell_type": "markdown",
      "source": [
        "En vez de escribir todos los valores a mano, podemos usar funciones como `np.arange()` y `np.linspace()` para generar secuencias:\n",
        "\n",
        "- `np.arange(start, stop, step)`: genera un arreglo con valores en el intervalo `[start, stop)` espaciados por un paso fijo `step` (es similar a `range()`).\n",
        "\n",
        "```python\n",
        "arreglo = np.arange(0, 10, 2)\n",
        "print(arreglo)  # [0 2 4 6 8]\n",
        "```\n",
        "\n",
        "Es ideal cuando sabés **el paso que querés entre los valores**.\n",
        "\n",
        "- `np.linspace(start, stop, num)`: genera una cantidad exacta `num` de valores uniformemente distribuidos en el intervalo `[start, stop]`.\n",
        "\n",
        "\n",
        "```python\n",
        "arreglo = np.linspace(0, 10, 5)\n",
        "print(arreglo)  # [ 0.   2.5  5.   7.5 10. ]\n",
        "```\n",
        "\n",
        "Es ideal cuando sabés **cuántos puntos querés**, no el paso.\n",
        "\n"
      ],
      "metadata": {
        "id": "EfvD9USmu_UF"
      }
    },
    {
      "cell_type": "markdown",
      "source": [
        "---"
      ],
      "metadata": {
        "id": "v6Fks1KWk0I9"
      }
    },
    {
      "cell_type": "code",
      "source": [
        "a = [1, 2, 3]\n",
        "b = [4, 5, 6]\n",
        "\n",
        "a_np = np.array([1, 2, 3, 3])\n",
        "b_np = np.array([4, 5, 6, 7])\n",
        "\n",
        "print(len(b_np))\n",
        "print(a + b)\n",
        "print(a_np + b_np)"
      ],
      "metadata": {
        "colab": {
          "base_uri": "https://localhost:8080/"
        },
        "id": "pKp69GjrEQpo",
        "outputId": "33d7e98d-d0e5-4f49-be49-3522b0bafef5"
      },
      "execution_count": null,
      "outputs": [
        {
          "output_type": "stream",
          "name": "stdout",
          "text": [
            "4\n",
            "[1, 2, 3, 4, 5, 6]\n",
            "[ 5  7  9 10]\n"
          ]
        }
      ]
    },
    {
      "cell_type": "markdown",
      "source": [
        "🧠 Preguntas:\n",
        "\n",
        "1. ¿Qué pasa al sumar dos listas comunes y al sumar dos arreglos de NumPy? Probá cuando:\n",
        "    ```python\n",
        "    a = [1, 2, 3]\n",
        "    b = [4, 5, 6]\n",
        "\n",
        "    a_np = np.array([1, 2, 3])\n",
        "    b_np = np.array([4, 5, 6])\n",
        "    ```\n",
        "    ¿En qué caso se suman los elementos y en cuál se concatenan? Al sumar dos lisas comunes se le añade al  final los otros elementos de la ota lista, en los arreglos se suman elemento a elemento (como vectores)\n",
        "\n",
        "2. ¿Qué devuelve `len()` cuando lo aplicamos a un arreglo? la cantiidad de elementos que contiene\n",
        "3. ¿Qué tipo de dato (`dtype`) asigna NumPy automáticamente para este arreglo?\n",
        "\n",
        "    ```python\n",
        "    np.array([1, 2.5, 3])\n",
        "    ```\n",
        "    \n",
        "    ¿Por qué no lo interpreta como enteros? ¿Qué podríamos hacer para sí lo haga?\n",
        "4. ¿Cómo podríamos generar un arreglo con los números pares entre 10 y 50?\n",
        "5. ¿Qué ocurre si aplicamos las siguiente operaciones matemáticas sobre un arreglo?\n",
        "\n",
        "    ```python\n",
        "    arreglo = np.array([1, 2, 3, 4])\n",
        "    arreglo + 5\n",
        "    arreglo * 2\n",
        "    np.sqrt(arreglo)\n",
        "    ```"
      ],
      "metadata": {
        "id": "bp6kd4SKxbli"
      }
    },
    {
      "cell_type": "markdown",
      "source": [
        "## 🔍 Visualizando"
      ],
      "metadata": {
        "id": "KSByfpx7m1Oi"
      }
    },
    {
      "cell_type": "markdown",
      "source": [
        "Volviendo al **histograma** de los niveles de OD, intentá responder las siguientes preguntas. Aproximadamente, ¿cuál es la proporción de alícuotas de agua con un nivel de oxígeno:\n",
        "\n",
        "1. **menor** a 8 mg/dL?\n",
        "2. **entre** 6 mg/dL y 8 mg/dL?\n",
        "3. **mayor** a 9 mg/dL?\n"
      ],
      "metadata": {
        "id": "7iLzOSoZ_raU"
      }
    },
    {
      "cell_type": "markdown",
      "source": [
        "Ahora, calculemos estas **proporciones** usando los datos en el arreglo `niveles_oxigeno`.\n",
        "\n",
        "Completá el siguiente código para realizar este cálculo:"
      ],
      "metadata": {
        "id": "PEpUoWxMHT6x"
      }
    },
    {
      "cell_type": "code",
      "source": [
        "# Calculamos el total de alícuotas\n",
        "total_alicuotas = len(niveles_oxigeno)\n",
        "\n",
        "# Calculamos las proporciones\n",
        "proporcion_menor_a_8  = np.sum(niveles_oxigeno < 8) / total_alicuotas\n",
        "proporcion_entre_6_y_8 = np.sum((niveles_oxigeno>= 6) & (niveles_oxigeno <= 8)) / total_alicuotas\n",
        "proporcion_mayor_a_9 = np.sum(niveles_oxigeno > 9) / total_alicuotas\n",
        "\n",
        "print(\"Proporción de alícuotas con nivel de oxígeno:\")\n",
        "print(\"- Menor a 8 mg/dL:\", proporcion_menor_a_8)\n",
        "print(\"- Entre 6 mg/dL y 8 mg/dL:\", proporcion_entre_6_y_8)\n",
        "print(\"- Mayor a 9 mg/dL:\", proporcion_mayor_a_9)"
      ],
      "metadata": {
        "id": "3Rro3hkzHfyo",
        "colab": {
          "base_uri": "https://localhost:8080/"
        },
        "outputId": "bd4d9792-7d5f-4d40-f5c2-06e8582e283a"
      },
      "execution_count": null,
      "outputs": [
        {
          "output_type": "stream",
          "name": "stdout",
          "text": [
            "Proporción de alícuotas con nivel de oxígeno:\n",
            "- Menor a 8 mg/dL: 0.45\n",
            "- Entre 6 mg/dL y 8 mg/dL: 0.44\n",
            "- Mayor a 9 mg/dL: 0.19\n"
          ]
        }
      ]
    },
    {
      "cell_type": "markdown",
      "source": [
        "El siguiente código muestra gráficamente la proporción de alícuotas de agua con **menos de 8 mg/dL de oxígeno**:"
      ],
      "metadata": {
        "id": "li6paaRKXK4J"
      }
    },
    {
      "cell_type": "code",
      "source": [
        "plt.figure()\n",
        "\n",
        "# Generamos el histograma\n",
        "histograma = plt.hist(niveles_oxigeno, density=True, bins=intervalos, color=\"white\", edgecolor=\"black\")\n",
        "\n",
        "# Extraemos las alturas de las barras del histograma\n",
        "alturas_barras = histograma[0]\n",
        "\n",
        "# Rellenamos el área bajo las barras para intervalos menores a 8 mg/dL\n",
        "for i in range(len(intervalos) - 1):\n",
        "    if intervalos[i] < 8:\n",
        "        plt.fill_between([intervalos[i], intervalos[i + 1]], [alturas_barras[i], alturas_barras[i]], alpha=0.3, color=\"blue\")\n",
        "\n",
        "plt.xlabel(\"Nivel Oxígeno Disuelto\")\n",
        "plt.ylabel(\"Densidad\")\n",
        "plt.show()"
      ],
      "metadata": {
        "id": "RypP5JwyReyK",
        "colab": {
          "base_uri": "https://localhost:8080/",
          "height": 450
        },
        "outputId": "96df8577-fb35-4c20-a891-fbe38898010d"
      },
      "execution_count": null,
      "outputs": [
        {
          "output_type": "display_data",
          "data": {
            "text/plain": [
              "<Figure size 640x480 with 1 Axes>"
            ],
            "image/png": "[encoded data removed]"
          },
          "metadata": {}
        }
      ]
    },
    {
      "cell_type": "markdown",
      "source": [
        "Completá el código para representar gráficamente la proporción de alícuotas de agua con **entre de 6 mg/dL y 8 mg/dL de oxígeno**:"
      ],
      "metadata": {
        "id": "cGSCjCF_YHqU"
      }
    },
    {
      "cell_type": "code",
      "source": [
        "plt.figure()\n",
        "histograma = plt.hist(niveles_oxigeno, density=True, bins=intervalos, color=\"white\", edgecolor=\"black\")\n",
        "alturas_barras = histograma[0]\n",
        "\n",
        "# Rellenamos el área bajo las barras para intervalos entre 6 y 8 mg/dL\n",
        "for i in range(len(intervalos)-1):\n",
        "    if intervalos[i + 1] >= 6 and intervalos[i + 1] <= 8:\n",
        "        plt.fill_between([intervalos[i], intervalos[i + 1]], [alturas_barras[i], alturas_barras[i]], alpha=0.3, color=\"blue\")\n",
        "\n",
        "plt.xlabel(\"Nivel Oxígeno Disuelto\")\n",
        "plt.ylabel(\"Densidad\")\n",
        "plt.show()"
      ],
      "metadata": {
        "id": "PB54d0ZJZAc8",
        "colab": {
          "base_uri": "https://localhost:8080/",
          "height": 450
        },
        "outputId": "2521bb7d-82d0-481b-d1ed-78b16b4a3896"
      },
      "execution_count": null,
      "outputs": [
        {
          "output_type": "display_data",
          "data": {
            "text/plain": [
              "<Figure size 640x480 with 1 Axes>"
            ],
            "image/png": "[encoded data removed]"
          },
          "metadata": {}
        }
      ]
    },
    {
      "cell_type": "markdown",
      "source": [
        "Completá el código para representar gráficamente la proporción de alícuotas de agua con **más de 9 mg/dL de oxígeno**:"
      ],
      "metadata": {
        "id": "zwX0TFAhPu1_"
      }
    },
    {
      "cell_type": "code",
      "source": [
        "plt.figure()\n",
        "histograma = plt.hist(niveles_oxigeno, density=True, bins=intervalos, color=\"white\", edgecolor=\"black\")\n",
        "alturas_barras = histograma[0]\n",
        "\n",
        "# Rellenamos el área bajo las barras para intervalos mayores a 9 mg/dL\n",
        "for i in range(len(intervalos) - 1):\n",
        "    if intervalos[i + 1] > 9:\n",
        "        plt.fill_between([intervalos[i], intervalos[i + 1]], [alturas_barras[i], alturas_barras[i]], alpha=0.3, color=\"blue\")\n",
        "\n",
        "plt.xlabel(\"Nivel Oxígeno Disuelto\")\n",
        "plt.ylabel(\"Densidad\")\n",
        "plt.show()"
      ],
      "metadata": {
        "id": "5lhj8jxTPw6F",
        "colab": {
          "base_uri": "https://localhost:8080/",
          "height": 450
        },
        "outputId": "584f24f0-d9bc-45ef-fcfc-901997f8db9d"
      },
      "execution_count": null,
      "outputs": [
        {
          "output_type": "display_data",
          "data": {
            "text/plain": [
              "<Figure size 640x480 with 1 Axes>"
            ],
            "image/png": "[encoded data removed]"
          },
          "metadata": {}
        }
      ]
    },
    {
      "cell_type": "markdown",
      "source": [
        "¿A qué se corresponden esas proporciones en la curva $f(x)$? 🤔\n",
        "\n",
        "Observá lo que hace el siguiente código:"
      ],
      "metadata": {
        "id": "1WrRyOQo95Fk"
      }
    },
    {
      "cell_type": "code",
      "source": [
        "# Parámetros de distribución normal\n",
        "mu = 8\n",
        "sigma = 1\n",
        "\n",
        "# Valores posibles de la variable aleatoria\n",
        "x = np.linspace(mu - 4*sigma, mu + 4*sigma, num=1000)\n",
        "\n",
        "# Evaluamos la función de densidad\n",
        "pdf = norm.pdf(x, loc=mu, scale=sigma)\n",
        "\n",
        "# Graficamos\n",
        "plt.figure()\n",
        "plt.plot(x, pdf)\n",
        "\n",
        "# Rellenamos el área bajo la curva para x < 8\n",
        "plt.fill_between(x, pdf, where=x<8, alpha=0.3, color=\"blue\")\n",
        "\n",
        "plt.xlabel(\"x\")\n",
        "plt.ylabel(\"f(x)\")\n",
        "plt.show()"
      ],
      "metadata": {
        "id": "0QOiifLZ-u7V",
        "colab": {
          "base_uri": "https://localhost:8080/",
          "height": 449
        },
        "outputId": "42502cb2-30d9-4486-e7ee-6a9c61ddf7b7"
      },
      "execution_count": null,
      "outputs": [
        {
          "output_type": "display_data",
          "data": {
            "text/plain": [
              "<Figure size 640x480 with 1 Axes>"
            ],
            "image/png": "[encoded data removed]"
          },
          "metadata": {}
        }
      ]
    },
    {
      "cell_type": "markdown",
      "source": [
        "Ahora, completemos los códigos en las siguientes celdas para representar gráficamente la correspondencia en el modelo teórico de las proporciones entre **6 mg/dL y 8 mg/dL**, y **mayor a 9 mg/dL**."
      ],
      "metadata": {
        "id": "Z_9abDiDZjgl"
      }
    },
    {
      "cell_type": "markdown",
      "source": [
        "Completá el código para representar la proporción **entre 6 mg/dL y 8 mg/dL**:"
      ],
      "metadata": {
        "id": "Ew_cXa_DTVBM"
      }
    },
    {
      "cell_type": "code",
      "source": [
        "plt.figure()\n",
        "plt.plot(x, pdf)\n",
        "\n",
        "# Rellenamos el área bajo la curva para 6 < x < 8\n",
        "plt.fill_between(x, pdf, where=(x >= 6) & (x <=8), alpha=0.3, color=\"blue\")\n",
        "\n",
        "plt.xlabel(\"x\")\n",
        "plt.ylabel(\"f(x)\")\n",
        "plt.show()"
      ],
      "metadata": {
        "id": "_rR7L1wVaSS8",
        "colab": {
          "base_uri": "https://localhost:8080/",
          "height": 449
        },
        "outputId": "990c8798-c1bb-4e10-84d6-c02135438d00"
      },
      "execution_count": null,
      "outputs": [
        {
          "output_type": "display_data",
          "data": {
            "text/plain": [
              "<Figure size 640x480 with 1 Axes>"
            ],
            "image/png": "[encoded data removed]"
          },
          "metadata": {}
        }
      ]
    },
    {
      "cell_type": "markdown",
      "source": [
        "Completá el código para representar la proporción **mayor a 9 mg/dL**:"
      ],
      "metadata": {
        "id": "iEU-TkbJTY59"
      }
    },
    {
      "cell_type": "code",
      "source": [
        "plt.figure()\n",
        "plt.plot(x, pdf)\n",
        "\n",
        "# Rellenamos el área bajo la curva para x > 9\n",
        "plt.fill_between(x, pdf, where=x > 9, alpha=0.3, color=\"blue\")\n",
        "\n",
        "plt.xlabel(\"x\")\n",
        "plt.ylabel(\"f(x)\")\n",
        "plt.show()"
      ],
      "metadata": {
        "id": "gyscAwArT2ns",
        "colab": {
          "base_uri": "https://localhost:8080/",
          "height": 449
        },
        "outputId": "e7671be7-eb98-4533-fe0c-956a710ee106"
      },
      "execution_count": null,
      "outputs": [
        {
          "output_type": "display_data",
          "data": {
            "text/plain": [
              "<Figure size 640x480 with 1 Axes>"
            ],
            "image/png": "[encoded data removed]"
          },
          "metadata": {}
        }
      ]
    },
    {
      "cell_type": "markdown",
      "source": [
        "---"
      ],
      "metadata": {
        "id": "Igp3mwyfnRl7"
      }
    },
    {
      "cell_type": "markdown",
      "source": [
        "### 📈 Función de densidad"
      ],
      "metadata": {
        "id": "Mhv29t41UT_K"
      }
    },
    {
      "cell_type": "markdown",
      "source": [
        "Para las **variables continuas**, el **modelo teórico** se llama **función de densidad de probabilidad** o simplemente **función de densidad**.\n",
        "\n",
        "Las propiedades de una función de densidad son:\n",
        "\n",
        "- $f(x) \\ge 0$: la función de densidad es siempre no negativa.\n",
        "- El área total bajo la curva de la función es igual a $1$.\n",
        "- La **probabilidad** de que una variable aleatoria $X$ caiga dentro de un intervalo $[a, b]$, denotada como $P(a < X < b)$, está representada por el área bajo la curva de la función de densidad entre $a$ y $b$, con $ -\\infty \\le a \\le b \\le \\infty $. Si $a = b$, entonces la probabilidad es $0$.\n",
        "\n"
      ],
      "metadata": {
        "id": "XqAAqvj8FRL2"
      }
    },
    {
      "cell_type": "markdown",
      "source": [
        "### 🔔 Distribución normal"
      ],
      "metadata": {
        "id": "favizE8gHjwS"
      }
    },
    {
      "cell_type": "markdown",
      "source": [
        "\n",
        "Cuando una variable aleatoria $X$ tiene una función de densidad con forma **simétrica y acampanada**, se dice que sigue una **distribución normal** con media $\\mu \\in \\mathbb{R}$ y desvíación estándar $\\sigma \\in (0, \\infty)$. Esto se denota como:\n",
        "\n",
        "$$\n",
        "X \\sim N(\\mu, \\sigma).\n",
        "$$\n",
        "\n",
        "La **función de densidad** de probabilidad de una distribución normal se define como:\n",
        "\n",
        "$$\n",
        "f(x) = \\frac{1}{\\sqrt{2 \\pi \\sigma^2}} \\exp \\left( -\\frac{(x - \\mu)^2}{2 \\sigma^2} \\right).\n",
        "$$\n",
        "\n",
        "En el caso del nivel de oxígeno en las muestras de agua, podemos describirlo como $X \\sim N(8, 1)$, lo que indica que el nivel de oxígeno sigue una distribución normal con media $8$ y desviación estándar $1$.\n",
        "\n",
        "Un caso especial de la distribución normal ocurre cuando $\\mu = 0$ y $\\sigma = 1$. En este caso, se denomina **distribución normal estándar** y se representa como:\n",
        "\n",
        "$$\n",
        "X \\sim N(0, 1).\n",
        "$$\n",
        "\n",
        "> *Nota:* Algunos libros utilizan la notación $X \\sim N(\\mu, \\sigma^2)$, donde $\\sigma^2$ es la varianza.\n",
        "\n",
        "Más adelante exploraremos con más detalle esta distribución tan especial 🙂."
      ],
      "metadata": {
        "id": "rFVjpZEhHoRK"
      }
    },
    {
      "cell_type": "markdown",
      "source": [
        "### 📚 Biblioteca Scipy: distribución normal"
      ],
      "metadata": {
        "id": "HErzqA2ko8FC"
      }
    },
    {
      "cell_type": "markdown",
      "source": [
        "La biblioteca **Scipy** amplía las capacidades de NumPy y es muy útil para el análisis estadístico.\n",
        "\n",
        "Dentro del módulo `scipy.stats` podemos encontrar funciones para trabajar con distribuciones de probabilidad.\n"
      ],
      "metadata": {
        "id": "_J3Lxk8EUchq"
      }
    },
    {
      "cell_type": "markdown",
      "source": [
        "🎯 **Distribución Normal en `scipy.stats`**"
      ],
      "metadata": {
        "id": "M9fwmHFi5v1e"
      }
    },
    {
      "cell_type": "markdown",
      "source": [
        "Uno de los **objetos** más utilizados en esta biblioteca es `norm`, que representa una **distribución normal**.\n",
        "\n",
        "Esta distribución está definida por dos parámetros:\n",
        "- **Media** ($\\mu$): parámetro `loc`\n",
        "- **Desviación estándar** ($\\sigma$): parámetro `scale`\n",
        "\n",
        "Podemos importar la distribución normal de dos formas:\n",
        "\n",
        "```python\n",
        "from scipy import stats        # Accede a todas las funciones de stats\n",
        "from scipy.stats import norm   # Solo importa la distribución normal\n",
        "```"
      ],
      "metadata": {
        "id": "9FLcD-u751Tx"
      }
    },
    {
      "cell_type": "markdown",
      "source": [
        "Dentro de las funciones principales de `norm`, encontramos:\n",
        "\n",
        "- `norm.pdf(x, loc=μ, scale=σ)`: calcula la **función de densidad de probabilidad** en un valor específico `x`.\n",
        "\n",
        "- `norm.cdf(x, loc=μ, scale=σ)`: calcula la **probabilidad acumulada** hasta `x`, es decir, $P(X \\leq x)$.\n",
        "\n",
        "- `norm.ppf(q, loc=μ, scale=σ)`: devuelve el valor de `x` que corresponde al **percentil** `q`. Es la función **inversa** de `cdf`.\n"
      ],
      "metadata": {
        "id": "Fx74VmHy6xI7"
      }
    },
    {
      "cell_type": "markdown",
      "source": [
        "### 🔢 Indexación en arreglos"
      ],
      "metadata": {
        "id": "0TXcwuMro_Lx"
      }
    },
    {
      "cell_type": "markdown",
      "source": [
        "La **indexación** y el **rebanado** (*slicing*) nos permiten acceder, seleccionar y manipular partes específicas de los arreglos.\n",
        "\n",
        "\n",
        "Ejemplo de indexación básica:\n",
        "\n",
        "```python\n",
        "numeros = np.array([10, 20, 30, 40, 50])\n",
        "print(numeros[0])   # Primer elemento\n",
        "```\n",
        "\n",
        "Para slicing usamos la sintaxis `arreglo[i:j:k]`, donde `i` es el índice de inicio (incluído), `j` el índice de fin (excluído) y `k` el paso entre índices seleccionados. Por ejemplo:\n",
        "\n",
        "```python\n",
        "print(numeros[0:3])  # Extrae los tres primeros elementos: [10, 20, 30]\n",
        "print(numeros[0:5:2])  # Extrae los elementos en índices pares: [10, 30, 50]\n",
        "```\n"
      ],
      "metadata": {
        "id": "x3eLv5oUpECE"
      }
    },
    {
      "cell_type": "markdown",
      "source": [
        "🔢 **Indexación avanzada con arreglos de índices**"
      ],
      "metadata": {
        "id": "Q-3IiCxE86KH"
      }
    },
    {
      "cell_type": "markdown",
      "source": [
        "Permite seleccionar múltiples elementos a la vez:\n",
        "\n",
        "```python\n",
        "indices = np.array([1, 3])\n",
        "print(numeros[indices])  # [20, 40]\n",
        "```\n",
        "\n",
        "\n"
      ],
      "metadata": {
        "id": "1HOccHfYXKqZ"
      }
    },
    {
      "cell_type": "markdown",
      "source": [
        "✅ **Indexación booleana**"
      ],
      "metadata": {
        "id": "gqEWDBXm9Yhc"
      }
    },
    {
      "cell_type": "markdown",
      "source": [
        "Seleccionamos elementos según una condición:\n",
        "\n",
        "```python\n",
        "condicion = numeros > 25\n",
        "print(condicion)            # [False, False, True, True, True]\n",
        "print(numeros[condicion])   # [30, 40, 50]\n",
        "```\n",
        "\n",
        "\n"
      ],
      "metadata": {
        "id": "cQNmy3oQ9br1"
      }
    },
    {
      "cell_type": "markdown",
      "source": [
        "###  🔘 Arreglos booleanos y operaciones lógicas"
      ],
      "metadata": {
        "id": "Oy9Jhn-ff982"
      }
    },
    {
      "cell_type": "markdown",
      "source": [
        "Los **arreglos booleanos** son muy útiles para análisis de datos.\n",
        "\n",
        "Por ejemplo, volviendo a nuestros datos `niveles_oxigeno` para calcular la proporción de alícuotas que cumplen con una condición, podemos hacer:\n",
        "\n",
        "```python\n",
        "proporcion = np.sum(niveles_oxigeno < 8) / total_alicuotas\n",
        "```\n",
        "\n",
        "También se pueden combinar condiciones usando:\n",
        "\n",
        "- `&` (AND lógico)\n",
        "- `|` (OR lógico)\n",
        "- `~` (NOT lógico)\n",
        "\n",
        "Ejemplo con doble condición:\n",
        "\n",
        "```python\n",
        "proporcion = np.sum((niveles_oxigeno >= 6) & (niveles_oxigeno <= 8)) / total_alicuotas\n",
        "```\n",
        "\n",
        "Esto cuenta cuántos valores están entre 6 y 8, y luego divide por la cantidad total de alícuotas."
      ],
      "metadata": {
        "id": "6lhVnM04b4Tw"
      }
    },
    {
      "cell_type": "markdown",
      "source": [
        "---"
      ],
      "metadata": {
        "id": "yB1T7UXDnyO7"
      }
    },
    {
      "cell_type": "markdown",
      "source": [
        "🧠 Preguntas:\n",
        "\n",
        "1. En relación con la función de densidad $f(x)$:\n",
        "    - ¿Te parece intuitiva la propiedad de que el área total bajo la curva de la función sea igual a 1?\n",
        "    - ¿Podrías relacionar esta propiedad de la función con lo que conocés sobre histogramas?\n",
        "\n",
        "Si consideramos el arreglo`x = np.array([5, 12, 17, 23, 36, 41, 48])`:\n",
        "\n",
        "2. ¿Qué resultado da `x[1:6:2]`? ¿Y `x[::-1]`?\n",
        "\n",
        "3. ¿Cómo seleccionarías todos los elementos impares de `x`?\n",
        "\n",
        "4. ¿Podés crear un arreglo booleano que indique si los valores están fuera del intervalo [20, 40]?\n",
        "\n",
        "5. ¿Qué pasa si combinamos condiciones como `x[(x > 15) | (x < 5)]`? ¿Qué elementos son seleccionados?"
      ],
      "metadata": {
        "id": "J9Cg_vlH56Sy"
      }
    },
    {
      "cell_type": "markdown",
      "source": [
        "✏️ Respuestas:\n",
        "\n",
        "1. ...\n",
        "2. ...\n",
        "3. ...\n",
        "4. ...\n",
        "5. ..."
      ],
      "metadata": {
        "id": "27ay48Ii6XV5"
      }
    },
    {
      "cell_type": "markdown",
      "source": [
        "---"
      ],
      "metadata": {
        "id": "Ek7lsNiTnzR_"
      }
    },
    {
      "cell_type": "markdown",
      "source": [
        "## 🔍 Explorando la distribución normal"
      ],
      "metadata": {
        "id": "nbm4gtY7n2rg"
      }
    },
    {
      "cell_type": "markdown",
      "source": [
        "Para comprender **el significado del desvío estándar $\\sigma$ en la distribución normal**, analizá el resultado del siguiente código. Observá cómo se representa la función de densidad y cómo se resaltan las áreas correspondientes a diferentes intervalos de $\\sigma$. Relacioná estos intervalos con el valor de $\\sigma$:\n"
      ],
      "metadata": {
        "id": "OrnDA7B5xlWo"
      }
    },
    {
      "cell_type": "code",
      "source": [
        "# Parámetros de la distribución normal\n",
        "mu = 8\n",
        "sigma = 1\n",
        "\n",
        "# Valores posibles de la variable aleatoria\n",
        "x = np.linspace(mu - 4*sigma, mu + 4*sigma, num=1000)\n",
        "\n",
        "# Evaluamos la función de densidad\n",
        "pdf = norm.pdf(x, loc=mu, scale=sigma)\n",
        "\n",
        "# Graficamos\n",
        "plt.figure()\n",
        "plt.plot(x, pdf)\n",
        "\n",
        "# Rellenamos el área bajo la curva entre diferentes múltiplos de sigma alrededor de mu\n",
        "plt.fill_between(x, pdf, where=((x > mu-sigma) & (x < mu+sigma)), alpha=0.3, color=\"blue\", label=\"68% de los valores\")\n",
        "plt.fill_between(x, pdf, where=((x > mu-2*sigma) & (x < mu+2*sigma)), alpha=0.2, color=\"blue\", label=\"95% de los valores\")\n",
        "plt.fill_between(x, pdf, where=((x > mu-3*sigma) & (x < mu+3*sigma)), alpha=0.1, color=\"blue\", label=\"99% de los valores\")\n",
        "\n",
        "# Marcas y etiquetas en el eje x para los múltiplos de sigma\n",
        "marcas_sigma = [mu - 3*sigma, mu - 2*sigma, mu - sigma, mu, mu + sigma, mu + 2*sigma, mu + 3*sigma]\n",
        "etiquetas_sigma = [r\"$\\mu - 3\\sigma$\", r\"$\\mu - 2\\sigma$\", r\"$\\mu - \\sigma$\", r\"$\\mu$\", r\"$\\mu + \\sigma$\", r\"$\\mu + 2\\sigma$\", r\"$\\mu + 3\\sigma$\"]\n",
        "plt.xticks(marcas_sigma, etiquetas_sigma)\n",
        "\n",
        "plt.xlabel(\"x\")\n",
        "plt.ylabel(\"f(x)\")\n",
        "plt.legend()\n",
        "plt.show()"
      ],
      "metadata": {
        "id": "QZXBx5ZAxqz4"
      },
      "execution_count": null,
      "outputs": []
    },
    {
      "cell_type": "markdown",
      "source": [
        "📌 Preguntas:\n",
        "\n",
        "1. ¿Cuál es la media $\\mu$ y el desvío estándar $\\sigma$ de la distribución en nuestro ejemplo?\n",
        "2. ¿Cómo cambia la función de densidad $f(x)$ si modificamos la media $\\mu$ hacia valores mayores o menores?\n",
        "3. ¿Qué sucede con la función de densidad $f(x)$ al ajustar el valor de $\\sigma$? Graficá estas variaciones en una sola gráfica."
      ],
      "metadata": {
        "id": "9qz5J4ziReyL"
      }
    },
    {
      "cell_type": "markdown",
      "source": [
        "✏️ Respuestas:\n",
        "\n",
        "1. ...\n",
        "2. ...\n",
        "3. ...\n"
      ],
      "metadata": {
        "id": "9dOoVm1Gv5s-"
      }
    },
    {
      "cell_type": "markdown",
      "source": [
        "Completá este código para graficar la función de densidad normal para diferentes valores de $\\mu$:"
      ],
      "metadata": {
        "id": "DYjc3KU-DuYz"
      }
    },
    {
      "cell_type": "code",
      "source": [
        "# Parámetros a evaluar\n",
        "valores_mu = [0, 1, 2]  # diferentes medias\n",
        "sigma = 1  # desvio fijo\n",
        "\n",
        "plt.figure()\n",
        "\n",
        "# Iteramos sobre los pares de mu y sigma\n",
        "for i in range(len(valores_mu)):\n",
        "    # Obtenemos los valores actuales de mu\n",
        "    mu = valores_mu[i]\n",
        "\n",
        "    # Generamos puntos en el intervalo dado\n",
        "    x = np.linspace(mu - 4 * sigma, mu + 4 * sigma, num=1000)\n",
        "\n",
        "    # Evaluamos la función de densidad en cada punto\n",
        "    pdf = norm.pdf(..., loc=..., scale=...)\n",
        "\n",
        "    # Graficamos la función de densidad\n",
        "    plt.plot(x, pdf, label=r\"$\\mu$= \"+ str(mu))\n",
        "\n",
        "plt.xlabel(\"x\")\n",
        "plt.ylabel(\"f(x)\")\n",
        "plt.legend()\n",
        "plt.show()"
      ],
      "metadata": {
        "id": "mpE05WzfwTr1"
      },
      "execution_count": null,
      "outputs": []
    },
    {
      "cell_type": "markdown",
      "source": [
        "Completá este código para graficar la función de densidad normal para diferentes valores de $\\sigma$:"
      ],
      "metadata": {
        "id": "R_Scf8KxwP-H"
      }
    },
    {
      "cell_type": "code",
      "source": [
        "# Parámetros a evaluar\n",
        "mu = 0  # media fija\n",
        "valores_sigma = [0.5, 0.7, 1.0]  # desvios\n",
        "\n",
        "plt.figure()\n",
        "\n",
        "# Iteramos sobre los pares de mu y sigma\n",
        "for i in range(len(valores_sigma)):\n",
        "    # Obtenemos los valores actuales de sigma\n",
        "    sigma = valores_sigma[i]\n",
        "\n",
        "    # Generamos puntos en el intervalo dado\n",
        "    x = np.linspace(mu - 4 * sigma, mu + 4 * sigma, num=1000)\n",
        "\n",
        "    # Evaluamos la función de densidad en cada punto\n",
        "    pdf = norm.pdf(..., loc=..., scale=...)\n",
        "\n",
        "    # Graficamos la función de densidad\n",
        "    plt.plot(x, pdf, label=r\"$\\sigma$=\" + str(sigma))\n",
        "\n",
        "plt.xlabel(\"x\")\n",
        "plt.ylabel(\"f(x)\")\n",
        "plt.legend()\n",
        "plt.show()"
      ],
      "metadata": {
        "id": "uTchexRRwP-I"
      },
      "execution_count": null,
      "outputs": []
    },
    {
      "cell_type": "markdown",
      "source": [
        "Y ahora variando ambas a la vez:"
      ],
      "metadata": {
        "id": "YUxAntkYEFx8"
      }
    },
    {
      "cell_type": "code",
      "source": [
        "# Parámetros a evaluar\n",
        "valores_mu = [0, 1, 2]  # medias\n",
        "valores_sigma = [0.5, 0.7, 1.0]  # desvios\n",
        "\n",
        "plt.figure()\n",
        "\n",
        "# Iteramos sobre los pares de mu y sigma\n",
        "for i in range(len(valores_mu)):\n",
        "    # Obtenemos los valores actuales de mu y sigma\n",
        "    mu = valores_mu[...]\n",
        "    sigma = valores_sigma[...]\n",
        "\n",
        "    # Generamos puntos en el intervalo dado\n",
        "    x = np.linspace(mu - 4 * sigma, mu + 4 * sigma, num=1000)\n",
        "\n",
        "    # Evaluamos la función de densidad en cada punto\n",
        "    pdf = norm.pdf(..., loc=..., scale=...)\n",
        "\n",
        "    # Graficamos la función de densidad\n",
        "    plt.plot(x, pdf, label=r\"$\\mu$= \"+ str(mu) + r\", $\\sigma$=\" + str(sigma))\n",
        "\n",
        "plt.xlabel(\"x\")\n",
        "plt.ylabel(\"f(x)\")\n",
        "plt.legend()\n",
        "plt.show()"
      ],
      "metadata": {
        "id": "apU8FVKTCnaQ"
      },
      "execution_count": null,
      "outputs": []
    },
    {
      "cell_type": "markdown",
      "source": [
        "❓ ¿Te acordás del gráfico de $f(x)$ y cómo mostramos en él la probabilidad de que la variable *Nivel de oxígeno* sea **menor a 8 mg/dL**?\n",
        "\n",
        "Esta es la probabilidad acumulada hasta el valor 8 (¡ojo, estamos hablando de probabilidad, no de proporción!)."
      ],
      "metadata": {
        "id": "q1gxLBYEy-aU"
      }
    },
    {
      "cell_type": "markdown",
      "source": [
        "¿Existirá una función que permita calcular directamente estas **probabilidades acumuladas**? 🤔\n"
      ],
      "metadata": {
        "id": "kNN9WSRLdKdu"
      }
    },
    {
      "cell_type": "markdown",
      "source": [
        "Mirá lo que hace el siguiente código:"
      ],
      "metadata": {
        "id": "Ty1ba3ttFM4y"
      }
    },
    {
      "cell_type": "code",
      "source": [
        "from scipy.stats import norm\n",
        "\n",
        "# Parámetros de la distribución normal\n",
        "mu = 8\n",
        "sigma = 1\n",
        "\n",
        "# Valores posibles de la variable aleatoria\n",
        "x = np.linspace(mu - 3*sigma, mu + 3*sigma, num=1000)\n",
        "\n",
        "# Evaluamos la función de distribución acumulada\n",
        "cdf = norm.cdf(x, loc=mu, scale=sigma)\n",
        "\n",
        "# Graficamos\n",
        "plt.figure()\n",
        "plt.plot(x, cdf)\n",
        "plt.xlabel(\"x\")\n",
        "plt.ylabel(\"F(x)\")\n",
        "plt.show()"
      ],
      "metadata": {
        "id": "E8CG98wqFgLD"
      },
      "execution_count": null,
      "outputs": []
    },
    {
      "cell_type": "markdown",
      "source": [
        "👀 Observá el gráfico que genera el siguiente código:"
      ],
      "metadata": {
        "id": "Eim8st0Gz_pM"
      }
    },
    {
      "cell_type": "code",
      "source": [
        "# Parámetros de la distribución normal\n",
        "mu = 8\n",
        "sigma = 1\n",
        "\n",
        "# Valores posibles de la variable aleatoria\n",
        "x = np.linspace(mu - 3*sigma, mu + 3*sigma, num=1000)\n",
        "\n",
        "# Evaluamos la función de densidad f(x)\n",
        "pdf = norm.pdf(x, loc=mu, scale=sigma)\n",
        "\n",
        "# Evaluamos la función de distribución acumulada F(x)\n",
        "cdf = norm.cdf(x, loc=mu, scale=sigma)\n",
        "\n",
        "x0 = 8\n",
        "cdf_x0 = norm.cdf(x0, loc=mu, scale=sigma)\n",
        "\n",
        "plt.figure(figsize=(12, 5))\n",
        "\n",
        "# Graficamos f(x)\n",
        "plt.subplot(1, 2, 1)\n",
        "plt.plot(x, pdf)\n",
        "\n",
        "plt.fill_between(x, pdf, where=(x <= x0), alpha=0.3, color=\"blue\")\n",
        "\n",
        "plt.xlabel(\"x\")\n",
        "plt.ylabel(\"f(x)\")\n",
        "plt.title(\"Función de densidad\")\n",
        "\n",
        "# Graficamos F(x)\n",
        "plt.subplot(1, 2, 2)\n",
        "plt.plot(x, cdf)\n",
        "\n",
        "plt.plot([x0, x0], [0, cdf_x0], \"--\", color=\"red\")                  # línea vertical\n",
        "plt.plot([min(x), x0], [cdf_x0, cdf_x0], \"--\", color=\"red\")         # línea horizontal\n",
        "plt.plot(x0, cdf_x0, \"o\", color=\"red\")                              # punto\n",
        "\n",
        "plt.xlabel(\"x\")\n",
        "plt.ylabel(\"F(x)\")\n",
        "plt.title(\"Función de distribución acumulada\")\n",
        "\n",
        "plt.show()"
      ],
      "metadata": {
        "id": "cg6Bs24ZzaGM"
      },
      "execution_count": null,
      "outputs": []
    },
    {
      "cell_type": "markdown",
      "source": [
        "❓ ¿Y si queremos ver qué probabilidad se acumula hasta otros valores por ejemplo, $6$ o $9$?"
      ],
      "metadata": {
        "id": "T-unTAhNz0ts"
      }
    },
    {
      "cell_type": "code",
      "source": [
        "# Parámetros de la distribución normal\n",
        "mu = 8\n",
        "sigma = 1\n",
        "\n",
        "# Valores posibles de la variable aleatoria\n",
        "x = np.linspace(mu - 3*sigma, mu + 3*sigma, num=1000)\n",
        "\n",
        "# Evaluarmos la función de densidad f(x)\n",
        "pdf = norm.pdf(x, loc=mu, scale=sigma)\n",
        "\n",
        "# Evaluamos la función de distribución acumulada F(x)\n",
        "cdf = norm.cdf(x, loc=mu, scale=sigma)\n",
        "\n",
        "valores = [6, 8, 9]\n",
        "alphas = [0.1, 0.2, 0.3]\n",
        "\n",
        "plt.figure(figsize=(12, 5))\n",
        "\n",
        "# Graficamos f(x)\n",
        "plt.subplot(1, 2, 1)\n",
        "plt.plot(x, pdf)\n",
        "\n",
        "for i in range(len(valores)):\n",
        "    plt.fill_between(x, pdf, where=(x <= valores[i]), alpha=alphas[i], color=\"blue\")\n",
        "\n",
        "plt.xlabel(\"x\")\n",
        "plt.ylabel(\"f(x)\")\n",
        "plt.title(\"Función de densidad\")\n",
        "\n",
        "# Graficamos F(x)\n",
        "plt.subplot(1, 2, 2)\n",
        "plt.plot(x, cdf)\n",
        "\n",
        "for i in range(len(valores)):\n",
        "    cdf_v = norm.cdf(valores[i], loc=mu, scale=sigma)\n",
        "    plt.plot([valores[i], valores[i]], [0, cdf_v], \"--\", color=\"red\")       # línea vertical\n",
        "    plt.plot([min(x), valores[i]], [cdf_v, cdf_v], \"--\", color=\"red\")       # línea horizontal\n",
        "    plt.plot(valores[i], cdf_v, \"o\", color=\"red\")                           # punto\n",
        "\n",
        "plt.xlabel(\"x\")\n",
        "plt.ylabel(\"F(x)\")\n",
        "plt.title(\"Función de distribución acumulada\")\n",
        "\n",
        "plt.show()"
      ],
      "metadata": {
        "id": "dmS5set_0g1E"
      },
      "execution_count": null,
      "outputs": []
    },
    {
      "cell_type": "markdown",
      "source": [
        "---"
      ],
      "metadata": {
        "id": "cnVSoS8ABGCY"
      }
    },
    {
      "cell_type": "markdown",
      "source": [
        "### ⛰️ Función de distribución acumulada"
      ],
      "metadata": {
        "id": "QqtpeKObEhbS"
      }
    },
    {
      "cell_type": "markdown",
      "source": [
        "La **función de distribución acumulada**, abreviada como **CDF** (*Cumulative Distribution Function*), nos indica **cuál es la probabilidad de que una variable aleatoria continua tome un valor menor o igual a cierto número $x$**.\n",
        "\n",
        "Matemáticamente, se expresa como:\n",
        "\n",
        "$$F(x) = P(X \\le x)$$\n",
        "\n",
        "Esto significa que $F(x)$ nos da la **probabilidad acumulada desde el extremo izquierdo de la distribución (menos infinito) hasta el valor $x$**.\n",
        "\n",
        "Es decir, nos dice cuánta “área bajo la curva” hay hasta ese punto si la relacionamos con la función de densidad.\n",
        "\n",
        "Características de la CDF:\n",
        "- Siempre **crece** de izquierda a derecha.\n",
        "- Su valor siempre **está entre 0 y 1**.\n",
        "- Para valores muy bajos de $x$, la CDF será cercana a 0.\n",
        "- Para valores muy altos de $x$, la CDF será cercana a 1.\n",
        "\n",
        "Se puede usar para calcular **probabilidades acumuladas**, como:\n",
        "\n",
        "- Hasta: $ P(a \\le X) = F(a) $\n",
        "- Entre: $ P(a \\le X \\le b) = F(b) - F(a) $\n",
        "- Desde: $ P(X \\ge b) = 1- F(b) $"
      ],
      "metadata": {
        "id": "nHG3vjasAlEU"
      }
    },
    {
      "cell_type": "markdown",
      "source": [
        "Con **SciPy**, podemos calcular una probabilidad acumulada usando la función `cdf`:\n",
        "\n",
        "```python\n",
        "from scipy.stats import norm\n",
        "\n",
        "# Supongamos que mu = 8, sigma = 2\n",
        "probabilidad = norm.cdf(6, loc=8, scale=2)\n",
        "print(probabilidad)\n",
        "```\n",
        "\n",
        "En este caso, estamos calculando la probabilidad de que una variable con media 8 y desviación estándar 2 tome un valor menor o igual a 6.\n",
        "\n"
      ],
      "metadata": {
        "id": "8PAPKIL9CqqO"
      }
    },
    {
      "cell_type": "markdown",
      "source": [
        "### 🎯 Percentiles"
      ],
      "metadata": {
        "id": "Rmj3LSLDHjDZ"
      }
    },
    {
      "cell_type": "markdown",
      "source": [
        "Los **percentiles** están íntimamente relacionados con la CDF.\n",
        "\n",
        "Mientras que la CDF responde: *¿Cuál es la probabilidad de que $X \\le x$?*\n",
        "\n",
        "El percentil responde la pregunta inversa: *¿Qué valor de $x$ hace que la probabilidad acumulada sea, por ejemplo, 90%?*\n",
        "\n",
        "En otras palabras, el **percentil $q$** es el valor de la variable aleatoria para el cual la CDF es igual a $q$:\n",
        "\n",
        "$$ \\text{Si } F(x)=q, \\text{ entonces } x \\text{ es el percentil } q $$\n",
        "\n",
        "Por ejemplo, el **percentil 90** es el valor por debajo del cual se encuentra **el 90% de los datos**."
      ],
      "metadata": {
        "id": "8a_ppy66HlaC"
      }
    },
    {
      "cell_type": "markdown",
      "source": [
        "En **SciPy**, usamos `ppf` para calcularlo:\n",
        "\n",
        "\n",
        "```python\n",
        "from scipy.stats import norm\n",
        "\n",
        "# Supongamos que mu = 8 y sigma = 2\n",
        "x = norm.ppf(0.9, loc=8, scale=2)\n",
        "\n",
        "print(x)  # Valor tal que P(X ≤ x) = 0.9\n",
        "```\n",
        "\n"
      ],
      "metadata": {
        "id": "pBeidVzEN0OT"
      }
    },
    {
      "cell_type": "markdown",
      "source": [
        "📌 En resumen:\n",
        "- Si usamos `cdf(x)`, obtenemos la **probabilidad acumulada hasta $x$**.\n",
        "- Si usamos `ppf(q)`, obtenemos el **valor de $x$** que deja **acumulado el $q%$ de probabilidad**.\n",
        "\n",
        "Ambas funciones son **inversas** entre sí."
      ],
      "metadata": {
        "id": "SjVZkE7nOMtT"
      }
    },
    {
      "cell_type": "markdown",
      "source": [
        "---"
      ],
      "metadata": {
        "id": "t0S4zRuLoqEj"
      }
    },
    {
      "cell_type": "markdown",
      "source": [
        "🧠 Preguntas:\n",
        "\n",
        "1. ¿Cuál es la probabilidad de que las alícuotas de agua tengan un nivel de oxígeno **menor a 8 mg/dL**?\n",
        "2. ¿Cuál es la probabilidad de que las alícuotas de agua tengan un nivel de oxígeno **entre 7.32 mg/dL y 8.67 mg/dL**?\n",
        "3. ¿Cuál es la probabilidad de que las alícuotas de agua tengan un nivel de oxígeno **mayor a 9.28 mg/dL**?\n"
      ],
      "metadata": {
        "id": "utvBgwabmHFi"
      }
    },
    {
      "cell_type": "markdown",
      "source": [
        "Para responder estas preguntas vas a tener que utilizar la función `norm.cdf` ya que nos preguntan por **probabilidades**:"
      ],
      "metadata": {
        "id": "MXu_PSLt0ln2"
      }
    },
    {
      "cell_type": "code",
      "source": [
        "# Parámetros de la distribución normal\n",
        "mu = 8\n",
        "sigma = 1\n",
        "\n",
        "# Calculamos las probabilidades para responder cada pregunta\n",
        "proba1 = norm.cdf(8, loc=mu, scale=sigma)\n",
        "proba2 = norm.cdf(8.67, loc=mu, scale=sigma) - norm.cdf(..., loc=mu, scale=sigma)\n",
        "proba3 = 1 - norm.cdf(..., loc=mu, scale=sigma)\n",
        "\n",
        "print(\"Probabilidad menor a 8 mg/dL:\", round(proba1, 2))\n",
        "print(\"Probabilidad entre 7.32 y 8.67 mg/dL:\", round(..., 2))\n",
        "print(\"Probabilidad mayor a 9.28 mg/dL:\", round(..., 2))"
      ],
      "metadata": {
        "id": "V6F1xCLrUUDp"
      },
      "execution_count": null,
      "outputs": []
    },
    {
      "cell_type": "markdown",
      "source": [
        "🧠 Preguntas:\n",
        "\n",
        "4. ¿Cuál es el nivel de oxígeno máximo que tiene el **50% de las muestras con menor nivel de oxígeno**?\n",
        "5. ¿Cuáles son los niveles de oxígeno máximo y mínimo que contienen al **50% central de las muestras**?\n",
        "6. ¿Cuál es el nivel de oxígeno mínimo que tiene el **10% de las muestras con mayor nivel**?"
      ],
      "metadata": {
        "id": "lnWtkfKuDYUx"
      }
    },
    {
      "cell_type": "markdown",
      "source": [
        "En este caso, vas a necesitar la función `norm.ppf` ya que buscamos  **valores de la variable** dado un **percentil**:"
      ],
      "metadata": {
        "id": "ITQmbjIBEnUH"
      }
    },
    {
      "cell_type": "code",
      "source": [
        "# Nivel de oxígeno máximo para el 50% inferior\n",
        "nivel1 = norm.ppf(0.5, loc=mu, scale=sigma)\n",
        "\n",
        "# Nivel de oxígeno mínimo que contiene el 50% central\n",
        "nivel2 = norm.ppf(..., loc=mu, scale=sigma)\n",
        "\n",
        "# Nivel de oxígeno máximo que contiene el 50% central\n",
        "nivel3 = norm.ppf(..., loc=mu, scale=sigma)\n",
        "\n",
        "# Nivel de oxígeno mínimo para el 10% superior\n",
        "nivel4 = norm.ppf(..., loc=mu, scale=sigma)\n",
        "\n",
        "print(\"Nivel de oxígeno máximo para el 50% inferior:\", nivel1)\n",
        "print(\"Nivel de oxígeno mínimo para el 50% central:\", ...)\n",
        "print(\"Nivel de oxígeno máximo para el 50% central:\", ...)\n",
        "print(\"Nivel de oxígeno mínimo para el 10% superior:\", ...)"
      ],
      "metadata": {
        "id": "XpOtUf20zBp0"
      },
      "execution_count": null,
      "outputs": []
    },
    {
      "cell_type": "markdown",
      "source": [
        "❓ A partir de los resultados, ¿qué relación observás entre las preguntas 1-4, 2-5, 3-6?\n"
      ],
      "metadata": {
        "id": "yZEUzBQ9GH5r"
      }
    },
    {
      "cell_type": "markdown",
      "source": [
        "✏️ Escribí tu respuesta acá:\n",
        "\n",
        "..."
      ],
      "metadata": {
        "id": "1h01UDLBGH5t"
      }
    },
    {
      "cell_type": "markdown",
      "source": [
        "---"
      ],
      "metadata": {
        "id": "bNtrk0qQn_wg"
      }
    },
    {
      "cell_type": "markdown",
      "source": [
        "## 🕰️ Tiempos de espera del colectivo"
      ],
      "metadata": {
        "id": "mxomZfGWue6X"
      }
    },
    {
      "cell_type": "markdown",
      "source": [
        "Malena toma el colectivo diariamente para ir al trabajo y los colectivos pasan exactamente cada 10 minutos. Debido a que suele salir de casa sin fijarse en la hora, no sabe exactamente a qué hora pasa el colectivo.\n",
        "\n",
        "Para optimizar su tiempo de espera, decidió registrar durante 100 días el **tiempo que tuvo que esperar** por el colectivo.\n",
        "\n",
        "A continuación están los datos que recopiló:"
      ],
      "metadata": {
        "id": "uR2ixSLOuykO"
      }
    },
    {
      "cell_type": "code",
      "source": [
        "tiempos_espera = np.array([4.28,3.39,2.87,0.29,0.31,2.89,3.49,2.62,5.30,0.01,4.51,1.67,4.61,5.67,1.50,1.51,2.89,3.61,1.51,5.93,0.32,2.60,4.79,\n",
        "                    3.80,1.75,4.19,3.45,1.84,0.43,5.39,1.49,4.69,5.14,2.47,3.15,1.48,3.51,0.68,4.70,5.28,3.47,3.45,5.31,4.93,4.62,4.18,\n",
        "                    3.92,2.65,0.08,4.80,2.58,4.04,3.58,5.28,2.10,0.48,3.90,2.65,0.57,1.57,3.63,4.40,2.24,3.95,4.40,2.11,1.18,4.58,6.00,\n",
        "                    4.67,5.54,3.21,1.95,0.60,2.27,5.39,3.66,2.70,5.27,5.08,3.01,5.89,0.73,3.70,5.44,1.89,0.17,4.14,0.14,0.85,5.03,2.39,\n",
        "                    1.65,4.96,3.41,0.87,1.16,1.52,1.42,1.16,4.81,1.49,3.45,4.16,4.45,1.03,3.18,1.60,4.48,2.21,1.62,4.74,1.63,1.21,2.84,\n",
        "                    4.24,4.48,4.82,2.64,0.81,3.44,3.76,3.30,2.13,1.95,2.97,3.87,4.65,0.98,2.35,0.11,1.29,3.21,0.90,1.25,2.57,3.94,2.84,\n",
        "                    3.85,1.22,1.68,5.59,2.41,1.40,4.26,0.38,4.95,4.45,5.00,5.01,0.43,3.25,4.70,1.91,2.73,1.82,1.72,4.36,1.42,1.13,2.43,\n",
        "                    1.49,1.29,5.32,0.83,4.56,1.62,0.51,4.53,3.56,1.83,5.52,5.04,3.18,1.99,2.71,4.70,1.66,2.20,3.17,0.90,0.38,3.26,0.80,\n",
        "                    2.68,5.57,1.14,5.90,3.73,2.07,5.43,3.64,5.10,3.74,2.96,5.55,2.75,4.78,2.86,4.84,5.64,1.94,4.95,3.88,3.90,1.09,5.92,\n",
        "                    1.69,5.98,4.81,3.17,5.11,3.57,1.19,2.67,2.10,0.38,5.11,1.51,5.45,2.96,0.64,4.94,0.80,3.10,2.17,2.01,0.13,0.29,2.69,\n",
        "                    4.27,0.43,0.18,2.31,2.14,5.39,2.43,3.11,1.90,2.46,5.82,5.75,2.32,0.77,1.62,5.69,3.86,2.29,2.21,5.64,0.39,5.77,0.00,\n",
        "                    1.71,3.50,2.84,3.96,3.14,5.79,2.52,5.98,2.47,1.51,4.42,5.84,2.27,5.34,0.87,5.52,0.07,3.36,5.65,0.18,4.29,2.32,4.42,\n",
        "                    0.39,2.03,5.37,1.85,4.97,2.58,0.86,2.32,0.71,2.23,0.54,3.40,1.13,1.88,2.00,1.60,0.08,4.13,0.46,3.16,1.96,4.66,5.90,\n",
        "                    5.37,1.49,5.16,3.00,5.53,1.02,0.45,2.07,5.34,5.86,2.31,2.47,5.10,0.29,1.29,0.75,3.13,4.61,3.99,0.67,4.25,2.39,4.66,\n",
        "                    0.63,2.72,2.38,3.57,2.38,1.17,3.78,4.03,4.98,2.10,1.77,1.89,2.65,1.69,3.34,1.37,2.81,4.41,1.98,4.95,4.52,1.83,3.05,\n",
        "                    4.58,4.08,1.80,1.19,1.92,4.85,3.95,2.66,3.36,3.44,2.20,5.18,1.26,2.33,3.40,3.07,4.48,3.32,4.41,3.93])"
      ],
      "metadata": {
        "id": "F-4bL9Vmvsr3"
      },
      "execution_count": null,
      "outputs": []
    },
    {
      "cell_type": "markdown",
      "source": [
        "📌 Preguntas:\n",
        "\n",
        "1. En este caso, ¿contamos con la población o con una muestra?\n",
        "2. ¿De qué tipo son los datos en este ejemplo?\n",
        "3. ¿Qué resumen gráfico sería útil para analizarlos?"
      ],
      "metadata": {
        "id": "ak599MkqAhBP"
      }
    },
    {
      "cell_type": "markdown",
      "source": [
        "✏️ Respuestas:\n",
        "\n",
        "1. ...\n",
        "2. ...\n",
        "3. ..."
      ],
      "metadata": {
        "id": "ee793ODxArCU"
      }
    },
    {
      "cell_type": "markdown",
      "source": [
        "¿Te animás a graficar el histograma para estos datos?"
      ],
      "metadata": {
        "id": "LJ_zA8viMmPg"
      }
    },
    {
      "cell_type": "code",
      "source": [
        "plt.figure()\n",
        "plt.hist(..., density=..., color=\"skyblue\", edgecolor=\"black\")\n",
        "plt.xlabel(\"Tiempo de espera (minutos)\")\n",
        "plt.ylabel(\"Densidad\")\n",
        "plt.xlim(-5, 11)\n",
        "plt.show()"
      ],
      "metadata": {
        "id": "6UtnaVjEaofH"
      },
      "execution_count": null,
      "outputs": []
    },
    {
      "cell_type": "markdown",
      "source": [
        "❓ ¿Qué conclusiones podrías tener acerca de la forma, centralidad y dispersión del histograma?\n"
      ],
      "metadata": {
        "id": "Y8YHk-iazlyM"
      }
    },
    {
      "cell_type": "markdown",
      "source": [
        "✏️ Escribí tu respuesta acá:\n",
        "\n",
        "..."
      ],
      "metadata": {
        "id": "PoKF97QkzlyN"
      }
    },
    {
      "cell_type": "markdown",
      "source": [
        "Observá ahora el resultado del siguiente código:"
      ],
      "metadata": {
        "id": "G_aClgS5zPIt"
      }
    },
    {
      "cell_type": "code",
      "source": [
        "from scipy.stats import uniform\n",
        "\n",
        "# Parámetros de la distribución uniforme\n",
        "a = 0\n",
        "b = 6\n",
        "\n",
        "# Valores posibles de la variable aleatoria\n",
        "x = np.linspace(a-5, b+5, num=1000)\n",
        "\n",
        "# Evaluamos la función de densidad\n",
        "pdf = uniform.pdf(x, loc=a, scale=b-a)\n",
        "\n",
        "plt.figure()\n",
        "plt.plot(x, pdf)\n",
        "plt.xlabel(\"x\")\n",
        "plt.ylabel(\"f(x)\")\n",
        "plt.show()"
      ],
      "metadata": {
        "id": "9ZMvabnNz2GS"
      },
      "execution_count": null,
      "outputs": []
    },
    {
      "cell_type": "markdown",
      "source": [
        "❓ Observando esta curva y el histograma que graficaste anteriormente. ¿Tienen alguna similitud?"
      ],
      "metadata": {
        "id": "xGkTiwNmz2Gc"
      }
    },
    {
      "cell_type": "markdown",
      "source": [
        "✏️ Escribí tu respuesta acá:\n",
        "\n",
        "...\n",
        "\n"
      ],
      "metadata": {
        "id": "Xcgf6zzIz2Gc"
      }
    },
    {
      "cell_type": "markdown",
      "source": [
        "¿Te animás a comparar en un mismo gráfico el histograma de la muestra de tiempos y la función $f(x)$ que graficamos anteriormente?"
      ],
      "metadata": {
        "id": "Q9gZs8vfz2Gc"
      }
    },
    {
      "cell_type": "markdown",
      "source": [
        "Completá el código de la celda que sigue:"
      ],
      "metadata": {
        "id": "va8JW9waN-aw"
      }
    },
    {
      "cell_type": "code",
      "source": [
        "plt.figure()\n",
        "plt.hist(..., density=..., color=\"skyblue\", edgecolor=\"black\")\n",
        "plt.plot(x, ..., color=\"black\")\n",
        "plt.xlabel(\"Tiempo de espera (minutos)\")\n",
        "plt.ylabel(\"Densidad\")\n",
        "plt.show()"
      ],
      "metadata": {
        "id": "9mnrLHw-z2Gc"
      },
      "execution_count": null,
      "outputs": []
    },
    {
      "cell_type": "markdown",
      "source": [
        "❓ ¿Y ahora qué pensás? ¿Por qué te parece que hay tanta similitud?"
      ],
      "metadata": {
        "id": "c8e6eIOvz2Gd"
      }
    },
    {
      "cell_type": "markdown",
      "source": [
        "✏️ Escribí tu respuesta acá:\n",
        "\n",
        "..."
      ],
      "metadata": {
        "id": "_4uiXQn6naq_"
      }
    },
    {
      "cell_type": "markdown",
      "source": [
        "---"
      ],
      "metadata": {
        "id": "TSW_x_EboGOq"
      }
    },
    {
      "cell_type": "markdown",
      "source": [
        "###  ⬜ Distibución uniforme"
      ],
      "metadata": {
        "id": "_Yc1G-atQ-N_"
      }
    },
    {
      "cell_type": "markdown",
      "source": [
        "En el ejemplo, Malena llega a la parada del colectivo sin mirar el reloj y el colectivo puede pasar en cualquier momento dentro de un intervalo de **0 a 6 minutos** con la misma probabilidad.\n",
        "\n",
        "En este caso, la variable $X$ sigue una **distribución uniforme continua** en el intervalo $[0,6]$:\n",
        "\n",
        "$$\n",
        "X∼\\mathcal{U}(a=0,b=6)\n",
        "$$\n",
        "\n",
        "Esta variable es **cuantitativa continua**, porque puede tomar valores con decimales (por ejemplo, puede esperar 1.57 minutos)."
      ],
      "metadata": {
        "id": "RpiGrdu9XCwF"
      }
    },
    {
      "cell_type": "markdown",
      "source": [
        "📈  **Función de densidad de la uniforme**"
      ],
      "metadata": {
        "id": "6uC1R1xaI_oS"
      }
    },
    {
      "cell_type": "markdown",
      "source": [
        "La **función de densidad de probabilidad (PDF)** para la distribución uniforme continua se define como:\n",
        "\n",
        "$$\n",
        "f(x) = \\begin{cases}\n",
        "\\frac{1}{b-a} & \\text{si } a \\le x \\le b,\\\\\n",
        "0 &  \\text{en cualquier otro caso}\n",
        "\\end{cases}\n",
        "$$\n",
        "\n",
        "Esto quiere decir que:\n",
        "- Dentro del intervalo $[a,b]$ **todos los valores son igualmente probables**.\n",
        "- La **altura de la curva** es constante y vale $\\frac{1}{b-a}$.\n",
        "- Fuera del intervalo, la probabilidad es **cero**.\n",
        "\n",
        "En nuestro ejemplo:\n",
        "\n",
        "$$ f(x) = \\frac{1}{6-0} = \\frac{1}{6} $$\n",
        "\n",
        "La curva de densidad sería una línea **horizontal** entre 0 y 6, y **toda el área bajo la curva es igual a 1**, como en toda función de densidad."
      ],
      "metadata": {
        "id": "iO6RPTuGJDsV"
      }
    },
    {
      "cell_type": "markdown",
      "source": [
        "### 📚 Biblioteca Scipy: distribución uniforme"
      ],
      "metadata": {
        "id": "8Oe1Bh9GRDxO"
      }
    },
    {
      "cell_type": "markdown",
      "source": [
        "Para trabajar con la distribución uniforme podemos usar el **objeto** `uniform` del módulo `scipy.stats`.\n",
        "\n",
        "Los parámetros que se usan son:\n",
        "- `loc=a`: límite inferior del intervalo.\n",
        "- `scale=b-a`: longitud del intervalo.\n",
        "\n",
        "Podemos importar la distribución uniforme así:\n",
        "\n",
        "```python\n",
        "from scipy.stats import uniform\n",
        "```\n",
        "\n"
      ],
      "metadata": {
        "id": "VG2Ce9BY9iCb"
      }
    },
    {
      "cell_type": "markdown",
      "source": [
        "Dentro de las funciones principales de `uniform`, encontramos:\n",
        "\n",
        "- `uniform.pdf(x, loc=a, scale=b-a)`: calcula la **función de densidad de probabilidad** en un valor específico `x`.\n",
        "\n",
        "- `uniform.cdf(x, loc=a, scale=b-a)`: calcula la **probabilidad acumulada** hasta `x`.\n",
        "\n",
        "- `uniform.ppf(q, loc=a, scale=b-a)`: devuelve el valor de `x` que corresponde al **percentil** `q`."
      ],
      "metadata": {
        "id": "-kyeLMTYLGRI"
      }
    },
    {
      "cell_type": "markdown",
      "source": [
        "---"
      ],
      "metadata": {
        "id": "thfu-5ppob5R"
      }
    },
    {
      "cell_type": "markdown",
      "source": [
        "## 🔍 Explorando la distribución uniforme"
      ],
      "metadata": {
        "id": "pvIDntE_p5a7"
      }
    },
    {
      "cell_type": "markdown",
      "source": [
        "Hasta ahora vimos que la variable aleatoria $X$ que representa el **tiempo de espera** de Malena se puede modelar como una **distribución uniforme** en el intervalo $[0, 6]$.\n",
        "\n",
        "Pero… ¿cómo se relacionan los parámetros $a = 0$ y $b = 6$ con la **media** y la **varianza** de la muestra? Vamos a investigarlo."
      ],
      "metadata": {
        "id": "a_kDIDxeTy8l"
      }
    },
    {
      "cell_type": "markdown",
      "source": [
        "Primero, calculemos la media y la varianza a partir de los datos registrados en `tiempos_espera`:"
      ],
      "metadata": {
        "id": "XdughNFzUAkg"
      }
    },
    {
      "cell_type": "code",
      "source": [
        "media_tiempos = np.mean(...)\n",
        "varianza_tiempos = np.var(...)\n",
        "\n",
        "print(\"Media muestral de tiempos:\", ...)\n",
        "print(\"Varianza muestral de tiempos:\", ...)"
      ],
      "metadata": {
        "id": "buz5UHHJUqJi"
      },
      "execution_count": null,
      "outputs": []
    },
    {
      "cell_type": "markdown",
      "source": [
        "📌 Preguntas:\n",
        "\n",
        "1. ¿Se parecen la media y varianza muestrales a $\\mu$ y $\\sigma^2$?\n",
        "2. ¿Qué creés que pasaría si tomás una muestra mucho más grande?"
      ],
      "metadata": {
        "id": "46PmS6vcQ6Fu"
      }
    },
    {
      "cell_type": "markdown",
      "source": [
        "Ahora veamos la forma de la función de **distribución acumulada (CDF)** para la distribución uniforme. Ejecutá el siguiente código:"
      ],
      "metadata": {
        "id": "3UinE5-vTNM3"
      }
    },
    {
      "cell_type": "code",
      "source": [
        "# Parámetros de la distribución uniforme\n",
        "a = 0\n",
        "b = 6\n",
        "\n",
        "# Valores posibles de la variabla aleatoria\n",
        "x = np.linspace(a-5, b+5, num=1000)\n",
        "\n",
        "# Evaluamos la función de distribución acumulada\n",
        "cdf = uniform.cdf(x, loc=a, scale=b-a)\n",
        "\n",
        "plt.figure()\n",
        "plt.plot(x, cdf)\n",
        "plt.xlabel(\"x\")\n",
        "plt.ylabel(\"F(x)\")\n",
        "plt.show()"
      ],
      "metadata": {
        "id": "EKWC68nETnSJ"
      },
      "execution_count": null,
      "outputs": []
    },
    {
      "cell_type": "markdown",
      "source": [
        "📌 Preguntas:\n",
        "\n",
        "1. ¿Qué forma tiene $F(x)$ (CDF) en el intervalo $[0, 6]$? ¿Qué pasa fuera de ese intervalo?\n",
        "2. ¿Cómo se comporta esta CDF en comparación con la de una distribución normal?\n",
        "3. ¿Por qué es una línea recta dentro del intervalo $[a,b]$?"
      ],
      "metadata": {
        "id": "11W2LSe4X1-X"
      }
    },
    {
      "cell_type": "markdown",
      "source": [
        "---"
      ],
      "metadata": {
        "id": "y2Mb0tj5PLic"
      }
    },
    {
      "cell_type": "markdown",
      "source": [
        "### 📚 Más sobre la uniforme"
      ],
      "metadata": {
        "id": "1saZV8zPRX-X"
      }
    },
    {
      "cell_type": "markdown",
      "source": [
        "Para una variable aleatoria continua $X$ con distribución uniforme en el intervalo $[a, b]$, la **media** y la **varianza** están dadas por:\n",
        "\n",
        "- $\\mu = \\frac{a + b}{2}$\n",
        "- $\\sigma^2 = \\frac{(b-a)^2}{12}$\n"
      ],
      "metadata": {
        "id": "QAItcoA5Rc_O"
      }
    },
    {
      "cell_type": "markdown",
      "source": [
        "La **función de distribución acumulada** para $X \\sim \\mathcal{U}(a, b)$ es:\n",
        "$$P(X\\le x)=F(x) = \\begin{cases}\n",
        "0 & x < a, \\\\\n",
        "\\frac{x-a}{b-a} & a \\le x < b,\\\\\n",
        "1 & x \\ge b.\n",
        "\\end{cases}$$\n",
        "\n",
        "Esto indica que:\n",
        "- Antes de $a$, no hay probabilidad acumulada ($F(x) = 0$).\n",
        "- Después de $b$, ya se acumuló toda la probabilidad ($F(x) = 1$).\n",
        "- Entre $a$ y $b$, la probabilidad se acumula de forma **constante y lineal**, porque todos los valores del intervalo son igualmente probables."
      ],
      "metadata": {
        "id": "3CJ4sDF-ATbD"
      }
    },
    {
      "cell_type": "markdown",
      "source": [
        "---"
      ],
      "metadata": {
        "id": "BKk6dzMhqEtO"
      }
    },
    {
      "cell_type": "markdown",
      "source": [
        "🧠 Preguntas:\n",
        "\n",
        "1. ¿Cuál es la probabilidad de que Malena tenga que esperar el colectivo **menos de 3 minutos**?\n",
        "2. ¿Cuál es la probabilidad de que Malena tenga que esperar el colectivo **entre 2 y 4 minutos**?\n",
        "3. ¿Cuál es la probabilidad de que Malena tenga que esperar el colectivo **4 minutos o más**?\n",
        "4. ¿Cuál es tiempo máximo que Malena tenga que esperar el **50% de las veces que menos espera**?\n",
        "5. ¿Cuáles son el tiempo máximo y mínimo que contienen al **50\\% central de los tiempos**?\n",
        "6. ¿Cuál es el tiempo mínimo que Malena tenga que esperar el **10% de las veces que más espera**?\n",
        "\n",
        "Para responder a las preguntas, tendrás que usar las funciones `uniform.cdf` y `uniform.ppf`.\n"
      ],
      "metadata": {
        "id": "1FJkIVUG1Nxl"
      }
    },
    {
      "cell_type": "markdown",
      "source": [
        "✏️ Respuestas:\n",
        "\n",
        "1. ...\n",
        "2. ...\n",
        "3. ...\n",
        "4. ...\n",
        "5. ...\n",
        "6. ..."
      ],
      "metadata": {
        "id": "rf1ioxlVPd4q"
      }
    },
    {
      "cell_type": "markdown",
      "source": [
        "👀 Observá el gráfico que genera el siguiente código:"
      ],
      "metadata": {
        "id": "QaI7vasC3Wbr"
      }
    },
    {
      "cell_type": "code",
      "source": [
        "# Parámetros de la distribución uniforme\n",
        "a = 0\n",
        "b = 10\n",
        "\n",
        "# Valores posibles de la variable aleatoria\n",
        "x = np.linspace(a - 1, b + 1, 1000)\n",
        "\n",
        "# Evaluarmos la función de densidad f(x)\n",
        "pdf = uniform.pdf(x, loc=a, scale=b-a)\n",
        "\n",
        "# Evaluamos la función de distribución acumulada F(x)\n",
        "cdf = uniform.cdf(x, loc=a, scale=b-a)\n",
        "\n",
        "valores = [2, 5, 8]\n",
        "alphas = [0.1, 0.2, 0.3]\n",
        "\n",
        "plt.figure(figsize=(12, 5))\n",
        "\n",
        "# Graficamos f(x)\n",
        "plt.subplot(1, 2, 1)\n",
        "plt.plot(x, pdf)\n",
        "\n",
        "for i in range(len(valores)):\n",
        "    plt.fill_between(x, pdf, where=(x <= valores[i]), alpha=alphas[i], color=\"blue\")\n",
        "\n",
        "plt.xlabel(\"x\")\n",
        "plt.ylabel(\"f(x)\")\n",
        "plt.title(\"Función de densidad\")\n",
        "\n",
        "# Graficamos F(x)\n",
        "plt.subplot(1, 2, 2)\n",
        "plt.plot(x, cdf)\n",
        "\n",
        "for i in range(len(valores)):\n",
        "    cdf_v = uniform.cdf(valores[i], loc=a, scale=b-a)\n",
        "    plt.plot([valores[i], valores[i]], [0, cdf_v], \"--\", color=\"red\")       # línea vertical\n",
        "    plt.plot([min(x), valores[i]], [cdf_v, cdf_v], \"--\", color=\"red\")       # línea horizontal\n",
        "    plt.plot(valores[i], cdf_v, \"o\", color=\"red\")                           # punto\n",
        "\n",
        "plt.xlabel(\"x\")\n",
        "plt.ylabel(\"F(x)\")\n",
        "plt.title(\"Función de distribución acumulada\")\n",
        "\n",
        "plt.show()"
      ],
      "metadata": {
        "id": "wpXvHdZLpzQh"
      },
      "execution_count": null,
      "outputs": []
    },
    {
      "cell_type": "markdown",
      "source": [
        "---"
      ],
      "metadata": {
        "id": "s7esjHTMqbJc"
      }
    },
    {
      "cell_type": "markdown",
      "source": [
        "## ⚠️ Resumiendo"
      ],
      "metadata": {
        "id": "58AOS9OJ2i3k"
      }
    },
    {
      "cell_type": "markdown",
      "source": [
        "- El histograma representa la **distribución empírica** de los datos cuantitativos, mientras que la **función de densidad** describe la **distribución de probabilidad** en un modelo teórico que podría haber generado esos datos.\n",
        "- Las cantidades $\\bar{x}$ y $s^2$ son **estimaciones muestrales** de los **parámetros de la distribución** $\\mu$, y $\\sigma^2$.\n"
      ],
      "metadata": {
        "id": "ryhihb9D2hs6"
      }
    },
    {
      "cell_type": "markdown",
      "source": [
        "---"
      ],
      "metadata": {
        "id": "YRjsaXzpinFh"
      }
    },
    {
      "cell_type": "markdown",
      "source": [
        "## 📚 Recursos adicionales"
      ],
      "metadata": {
        "id": "o02SmixlFM8o"
      }
    },
    {
      "cell_type": "markdown",
      "source": [
        "- 📖 En el **Capítulo 6** del libro *Probabilidad y Estadística para Ingeniería y Ciencias* de Walpole et al. (Ed. Prentice Hall, 2007), disponible en la biblioteca, encontrarás información detallada sobre **distribuciones de probabilidad continuas**.\n",
        "\n",
        "- 🔗 Para una explicación más amplia sobre **variables aleatorias continuas**, consultá [este apartado](https://stats.libretexts.org/Bookshelves/Introductory_Statistics/Introductory_Statistics_(Shafer_and_Zhang)/05%3A_Continuous_Random_Variables).\n",
        "\n",
        "- 🔗 Para información específica sobre la **distribución normal**, visitá [este enlace](https://stats.libretexts.org/Bookshelves/Introductory_Statistics/Introductory_Statistics_(Lane)/07%3A_Normal_Distribution).\n",
        "\n",
        "- 🔗 Podés consultar la documentación de **scipy.stats** en su [página oficial](https://docs.scipy.org/doc/scipy/reference/stats.html).\n",
        "\n",
        "- 🔗 Para un tutorial sobre **NumPy**, consultá [este enlace](https://deepnote.com/app/anthonymanotoa/Tutorial-de-NumPy-en-Espanol-180f7d51-b297-4aea-b61e-34ef867ca6fb).\n"
      ],
      "metadata": {
        "id": "L-7nzBjfUoDT"
      }
    }
  ]
}